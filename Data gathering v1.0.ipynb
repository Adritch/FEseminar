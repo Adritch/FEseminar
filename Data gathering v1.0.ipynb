{
 "cells": [
  {
   "cell_type": "code",
   "execution_count": 1,
   "metadata": {},
   "outputs": [],
   "source": [
    "import pandas as pd\n",
    "import numpy as np\n",
    "import wrds\n",
    "from pathlib import Path  "
   ]
  },
  {
   "cell_type": "markdown",
   "metadata": {},
   "source": [
    "Process for each index/country:\n",
    "1. Get list of index constituents from Compustat\n",
    "2. Pass list of index constituents to CRSP data\n",
    "3. Calculate Adj. Close etc."
   ]
  },
  {
   "cell_type": "code",
   "execution_count": 2,
   "metadata": {},
   "outputs": [
    {
     "name": "stdout",
     "output_type": "stream",
     "text": [
      "Loading library list...\n",
      "Done\n"
     ]
    }
   ],
   "source": [
    "# List of countries and currency codes to get data for:\n",
    "data_ = pd.read_csv (f'C:/Users/Carla/Dropbox/Uni/10. Semester/Seminar Fin Econ/Data/countrycodes.csv')\n",
    "countrycds = data_['ISO Country Code']\n",
    "curcdds = data_['ISO Currency Code']\n",
    "pars = zip(countrycds, curcdds)\n",
    "\n",
    "# Connect to wrds\n",
    "db = wrds.Connection(wrds_username='anfr18ab')"
   ]
  },
  {
   "cell_type": "code",
   "execution_count": null,
   "metadata": {},
   "outputs": [
    {
     "name": "stdout",
     "output_type": "stream",
     "text": [
      " Index: AUS, total companies in scope: 1825\n"
     ]
    }
   ],
   "source": [
    "for par in pars:\n",
    "    try:        \n",
    "        # Set country AND currencycode here\n",
    "        countrycd = par[0]\n",
    "        df_curcdd = par[1]\n",
    "\n",
    "        junedate = '2000-01-01'\n",
    "\n",
    "        # Get world index constituents data\n",
    "        sql_wic = f\"select fic, gvkey, iid, junedate from wrdsapps_windices.wcountryconstituents where fic = '{countrycd}' and junedate > '2000-01-01' LIMIT 10000\"\n",
    "        data_wic = db.raw_sql(sql_wic) # Chose limit here\n",
    "        #print(f' Observations, wic data: {len(data_wic)}')\n",
    "\n",
    "        data_wic[\"gvkey\"]=data_wic[\"gvkey\"].apply(str)\n",
    "        filepath = Path(f'C:/Users/Carla/Dropbox/Uni/10. Semester/Seminar Fin Econ/Data/WIC_{countrycd}.csv') # Set name\n",
    "        filepath.parent.mkdir(parents=True, exist_ok=True)  \n",
    "        data_wic.to_csv(filepath, index=False) # # Save WIC\n",
    "\n",
    "        # Set up list of gvkeys to pass to CRSP query\n",
    "        gvkeys_list = data_wic['gvkey']\n",
    "        gvkeys_list.drop_duplicates()\n",
    "        gvkeys = {}\n",
    "        gvkeys[\"gvkeys\"] = tuple(gvkeys_list)\n",
    "        print(f' Index: {countrycd}, total companies in scope: {len(gvkeys_list.drop_duplicates())}')\n",
    "\n",
    "        # Get CRSP primary issue ID\n",
    "        data_crspiid = db.raw_sql(\"select gvkey, priusa, prirow \"\n",
    "                   \"from crsp_a_ccm.comphead \"\n",
    "                   \"where gvkey in %(gvkeys)s \" # Chosing gvkeys here\n",
    "                  \" LIMIT 1\", # Chose limit here\n",
    "                    params=gvkeys)  # Pass list of gvkeys\n",
    "\n",
    "        data_crspiid = data_crspiid.drop(columns='priusa') #, 'priusa', 'prirow', 'primaryissue']) # Dont need USA here\n",
    "        #print(f' Observations, crspiid data: {len(data_crspiid)}')\n",
    "\n",
    "        # Get CRSP stock data \n",
    "        data_crsp = db.raw_sql(\"select gvkey, iid, datadate, ajexdi, prccd, trfd, curcdd, conm, cshoc \"#, priusa, prirow, currcd \"\n",
    "                   \"from comp_global_daily.g_secd \"\n",
    "                   \"where gvkey in %(gvkeys)s \" # Chosing gvkeys here\n",
    "                   \"and datadate > '2000-01-01'\" # Chose start date here\n",
    "                    \"and datadate < '2021-12-31'\", # Chose end date here\n",
    "                  #\" LIMIT 10\", # Chose limit here\n",
    "                    params=gvkeys)  # Pass list of gvkeys\n",
    "        print(f' Total daily observations, crsp data: {len(data_crsp)}')\n",
    "\n",
    "        # Copy CRSP data and start formatting\n",
    "        df = data_crsp.copy()\n",
    "\n",
    "        # 1. Merge CRSP with IID primary issues so we can filter primary issue ID\n",
    "        df = pd.merge(left=data_crsp, right=data_crspiid, left_on=\"gvkey\", right_on=\"gvkey\", how=\"left\")\n",
    "        df.prirow.fillna(df.iid, inplace=True) # fill missing values\n",
    "        df[\"primaryissue\"] = np.where(df.iid==df.prirow, 'True', 'False') # Creates Primary issue column\n",
    "        df = df[df.primaryissue == 'True'] # If issue ID = primary issue, then keep, otherwise remove\n",
    "\n",
    "        # 2. Calculate adjusted close = (prccd/ajexdi)*trfd and mktcap\n",
    "        df[\"adjclose\"] = (df.prccd/df.ajexdi)*df.trfd\n",
    "        df[\"mktcap\"] = df.adjclose*df.cshoc\n",
    "\n",
    "        # 3. Format date as date\n",
    "        df['date'] =  df['datadate']\n",
    "        #df['Date'] =  pd.to_datetime(df['datadate'], format='%Y%m%d')\n",
    "\n",
    "        # 4. Select based on currency code\n",
    "        df = df[df.curcdd == df_curcdd]\n",
    "\n",
    "        # 5. Drop unneeded columns\n",
    "        df = df.drop(columns=['conm','iid', 'datadate', 'ajexdi', 'prccd', 'trfd', 'curcdd', 'prirow', 'primaryissue']) #, 'priusa', 'prirow', 'primaryissue'])\n",
    "        df = df.dropna()\n",
    "\n",
    "        # 6. Save country price data\n",
    "        df[\"gvkey\"]=df[\"gvkey\"].apply(str)\n",
    "        filepath = Path(f'C:/Users/Carla/Dropbox/Uni/10. Semester/Seminar Fin Econ/Data/{countrycd}.csv') # Set name\n",
    "        filepath.parent.mkdir(parents=True, exist_ok=True)  \n",
    "        df.to_csv(filepath, index=False)\n",
    "    except:\n",
    "        print(f'Error at {countrycd}')\n",
    "        continue\n",
    "        \n"
   ]
  },
  {
   "cell_type": "code",
   "execution_count": null,
   "metadata": {},
   "outputs": [],
   "source": [
    "db.close()"
   ]
  },
  {
   "cell_type": "markdown",
   "metadata": {},
   "source": [
    "# HELP\n"
   ]
  },
  {
   "cell_type": "code",
   "execution_count": null,
   "metadata": {},
   "outputs": [],
   "source": [
    "# db.create_pgpass_file() # Creating password file - only for first time setup\n",
    "\n",
    "#help(db.get_table)\n",
    "#help(db.raw_sql)\n",
    "\n",
    "# Finding libarires:\n",
    "#sorted(db.list_libraries())\n",
    "#db.list_tables(library=\"wrdsapps_windices\")\n",
    "#db.list_tables(library=\"comp_global_daily\")\n",
    "\n",
    "#db.describe_table(library=\"wrdsapps_windices\", table=\"wcountryconstituents\")\n",
    "#db.describe_table(library=\"comp_global_daily\", table=\"g_secd\")\n",
    "\n",
    "# Note libraries i need:\n",
    "#wrdsapps_windices\n",
    "#comp_global_daily\n",
    "#crspa\n",
    "\n",
    "# Tables i might need\n",
    "#wcountryconstituents\n",
    "#g_secd'\n",
    "#g_funda\n",
    "#ccm_lookup"
   ]
  }
 ],
 "metadata": {
  "kernelspec": {
   "display_name": "Python 3",
   "language": "python",
   "name": "python3"
  },
  "language_info": {
   "codemirror_mode": {
    "name": "ipython",
    "version": 3
   },
   "file_extension": ".py",
   "mimetype": "text/x-python",
   "name": "python",
   "nbconvert_exporter": "python",
   "pygments_lexer": "ipython3",
   "version": "3.8.5"
  }
 },
 "nbformat": 4,
 "nbformat_minor": 4
}
